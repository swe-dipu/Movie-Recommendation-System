{
 "cells": [
  {
   "cell_type": "markdown",
   "id": "a9bfec75",
   "metadata": {},
   "source": [
    "# Movie Recommandation System.\n",
    "## Dataset Link: https://www.kaggle.com/datasets/grouplens/movielens-20m-dataset?select=movie.csv\n",
    "\n",
    "\n",
    "This notebook implements a complete movie recommendation system using:\n",
    "1. Collaborative Filtering (Item-based)\n",
    "2. Matrix Factorization (SVD)\n",
    "3. Evaluation Metrics (Precision@K, Recall@K, NDCG)"
   ]
  },
  {
   "cell_type": "markdown",
   "id": "d5d1c9ad",
   "metadata": {},
   "source": [
    "## Importing all the Libraries"
   ]
  },
  {
   "cell_type": "code",
   "execution_count": 59,
   "id": "f5308875",
   "metadata": {},
   "outputs": [],
   "source": [
    "import pandas as pd\n",
    "import numpy as np\n",
    "from scipy.sparse import csr_matrix\n",
    "from sklearn.metrics.pairwise import cosine_similarity\n",
    "from scipy.sparse.linalg import svds\n",
    "from sklearn.decomposition import TruncatedSVD\n",
    "from sklearn.metrics import ndcg_score\n",
    "from sklearn.model_selection import train_test_split\n",
    "import pickle\n",
    "import warnings\n",
    "warnings.filterwarnings('ignore')"
   ]
  },
  {
   "cell_type": "markdown",
   "id": "1fbfdc12",
   "metadata": {},
   "source": [
    "## Load and Explore the Dataset"
   ]
  },
  {
   "cell_type": "code",
   "execution_count": 23,
   "id": "09db5d63",
   "metadata": {},
   "outputs": [],
   "source": [
    "movies = pd.read_csv('movie.csv')\n",
    "ratings = pd.read_csv('rating.csv', \n",
    "                      usecols=['userId', 'movieId', 'rating'],\n",
    "                      dtype={'userId': 'int32', 'movieId': 'int32', 'rating': 'float32'})"
   ]
  },
  {
   "cell_type": "code",
   "execution_count": 24,
   "id": "1d03ca88",
   "metadata": {},
   "outputs": [
    {
     "data": {
      "text/plain": [
       "(27278, 3)"
      ]
     },
     "execution_count": 24,
     "metadata": {},
     "output_type": "execute_result"
    }
   ],
   "source": [
    "movies.shape"
   ]
  },
  {
   "cell_type": "code",
   "execution_count": 25,
   "id": "d2496178",
   "metadata": {},
   "outputs": [
    {
     "data": {
      "text/plain": [
       "(20000263, 3)"
      ]
     },
     "execution_count": 25,
     "metadata": {},
     "output_type": "execute_result"
    }
   ],
   "source": [
    "ratings.shape"
   ]
  },
  {
   "cell_type": "code",
   "execution_count": 26,
   "id": "1a11a1bb",
   "metadata": {},
   "outputs": [
    {
     "data": {
      "text/html": [
       "<div>\n",
       "<style scoped>\n",
       "    .dataframe tbody tr th:only-of-type {\n",
       "        vertical-align: middle;\n",
       "    }\n",
       "\n",
       "    .dataframe tbody tr th {\n",
       "        vertical-align: top;\n",
       "    }\n",
       "\n",
       "    .dataframe thead th {\n",
       "        text-align: right;\n",
       "    }\n",
       "</style>\n",
       "<table border=\"1\" class=\"dataframe\">\n",
       "  <thead>\n",
       "    <tr style=\"text-align: right;\">\n",
       "      <th></th>\n",
       "      <th>movieId</th>\n",
       "      <th>title</th>\n",
       "      <th>genres</th>\n",
       "    </tr>\n",
       "  </thead>\n",
       "  <tbody>\n",
       "    <tr>\n",
       "      <th>0</th>\n",
       "      <td>1</td>\n",
       "      <td>Toy Story (1995)</td>\n",
       "      <td>Adventure|Animation|Children|Comedy|Fantasy</td>\n",
       "    </tr>\n",
       "    <tr>\n",
       "      <th>1</th>\n",
       "      <td>2</td>\n",
       "      <td>Jumanji (1995)</td>\n",
       "      <td>Adventure|Children|Fantasy</td>\n",
       "    </tr>\n",
       "    <tr>\n",
       "      <th>2</th>\n",
       "      <td>3</td>\n",
       "      <td>Grumpier Old Men (1995)</td>\n",
       "      <td>Comedy|Romance</td>\n",
       "    </tr>\n",
       "    <tr>\n",
       "      <th>3</th>\n",
       "      <td>4</td>\n",
       "      <td>Waiting to Exhale (1995)</td>\n",
       "      <td>Comedy|Drama|Romance</td>\n",
       "    </tr>\n",
       "    <tr>\n",
       "      <th>4</th>\n",
       "      <td>5</td>\n",
       "      <td>Father of the Bride Part II (1995)</td>\n",
       "      <td>Comedy</td>\n",
       "    </tr>\n",
       "  </tbody>\n",
       "</table>\n",
       "</div>"
      ],
      "text/plain": [
       "   movieId                               title  \\\n",
       "0        1                    Toy Story (1995)   \n",
       "1        2                      Jumanji (1995)   \n",
       "2        3             Grumpier Old Men (1995)   \n",
       "3        4            Waiting to Exhale (1995)   \n",
       "4        5  Father of the Bride Part II (1995)   \n",
       "\n",
       "                                        genres  \n",
       "0  Adventure|Animation|Children|Comedy|Fantasy  \n",
       "1                   Adventure|Children|Fantasy  \n",
       "2                               Comedy|Romance  \n",
       "3                         Comedy|Drama|Romance  \n",
       "4                                       Comedy  "
      ]
     },
     "execution_count": 26,
     "metadata": {},
     "output_type": "execute_result"
    }
   ],
   "source": [
    "movies.head()"
   ]
  },
  {
   "cell_type": "code",
   "execution_count": 27,
   "id": "d22107b3",
   "metadata": {},
   "outputs": [
    {
     "data": {
      "text/html": [
       "<div>\n",
       "<style scoped>\n",
       "    .dataframe tbody tr th:only-of-type {\n",
       "        vertical-align: middle;\n",
       "    }\n",
       "\n",
       "    .dataframe tbody tr th {\n",
       "        vertical-align: top;\n",
       "    }\n",
       "\n",
       "    .dataframe thead th {\n",
       "        text-align: right;\n",
       "    }\n",
       "</style>\n",
       "<table border=\"1\" class=\"dataframe\">\n",
       "  <thead>\n",
       "    <tr style=\"text-align: right;\">\n",
       "      <th></th>\n",
       "      <th>userId</th>\n",
       "      <th>movieId</th>\n",
       "      <th>rating</th>\n",
       "    </tr>\n",
       "  </thead>\n",
       "  <tbody>\n",
       "    <tr>\n",
       "      <th>0</th>\n",
       "      <td>1</td>\n",
       "      <td>2</td>\n",
       "      <td>3.5</td>\n",
       "    </tr>\n",
       "    <tr>\n",
       "      <th>1</th>\n",
       "      <td>1</td>\n",
       "      <td>29</td>\n",
       "      <td>3.5</td>\n",
       "    </tr>\n",
       "    <tr>\n",
       "      <th>2</th>\n",
       "      <td>1</td>\n",
       "      <td>32</td>\n",
       "      <td>3.5</td>\n",
       "    </tr>\n",
       "    <tr>\n",
       "      <th>3</th>\n",
       "      <td>1</td>\n",
       "      <td>47</td>\n",
       "      <td>3.5</td>\n",
       "    </tr>\n",
       "    <tr>\n",
       "      <th>4</th>\n",
       "      <td>1</td>\n",
       "      <td>50</td>\n",
       "      <td>3.5</td>\n",
       "    </tr>\n",
       "  </tbody>\n",
       "</table>\n",
       "</div>"
      ],
      "text/plain": [
       "   userId  movieId  rating\n",
       "0       1        2     3.5\n",
       "1       1       29     3.5\n",
       "2       1       32     3.5\n",
       "3       1       47     3.5\n",
       "4       1       50     3.5"
      ]
     },
     "execution_count": 27,
     "metadata": {},
     "output_type": "execute_result"
    }
   ],
   "source": [
    "ratings.head()"
   ]
  },
  {
   "cell_type": "markdown",
   "id": "a36d92a4",
   "metadata": {},
   "source": [
    "### Some basic Statistics"
   ]
  },
  {
   "cell_type": "code",
   "execution_count": 28,
   "id": "ae775b4e",
   "metadata": {},
   "outputs": [
    {
     "name": "stdout",
     "output_type": "stream",
     "text": [
      "Number of unique users: 138493\n",
      "Number of unique movies: 26744\n",
      "Rating range: 0.5 to 5.0\n",
      "Average rating: 3.53\n",
      "Sparsity: 99.46%\n"
     ]
    }
   ],
   "source": [
    "print(f\"Number of unique users: {ratings['userId'].nunique()}\")\n",
    "print(f\"Number of unique movies: {ratings['movieId'].nunique()}\")\n",
    "print(f\"Rating range: {ratings['rating'].min()} to {ratings['rating'].max()}\")\n",
    "print(f\"Average rating: {ratings['rating'].mean():.2f}\")\n",
    "print(f\"Sparsity: {(1 - len(ratings) / (ratings['userId'].nunique() * ratings['movieId'].nunique())) * 100:.2f}%\")"
   ]
  },
  {
   "cell_type": "code",
   "execution_count": 29,
   "id": "e9407b9d",
   "metadata": {},
   "outputs": [
    {
     "data": {
      "text/plain": [
       "movieId    0\n",
       "title      0\n",
       "genres     0\n",
       "dtype: int64"
      ]
     },
     "execution_count": 29,
     "metadata": {},
     "output_type": "execute_result"
    }
   ],
   "source": [
    "movies.isnull().sum()"
   ]
  },
  {
   "cell_type": "code",
   "execution_count": 30,
   "id": "965103ca",
   "metadata": {},
   "outputs": [
    {
     "data": {
      "text/plain": [
       "userId     0\n",
       "movieId    0\n",
       "rating     0\n",
       "dtype: int64"
      ]
     },
     "execution_count": 30,
     "metadata": {},
     "output_type": "execute_result"
    }
   ],
   "source": [
    "ratings.isnull().sum()"
   ]
  },
  {
   "cell_type": "markdown",
   "id": "7d7203ff",
   "metadata": {},
   "source": [
    "# Data Preprocessing"
   ]
  },
  {
   "cell_type": "code",
   "execution_count": 32,
   "id": "cb944661",
   "metadata": {},
   "outputs": [],
   "source": [
    "# Sample data for memory efficiency (use 10% of data)\n",
    "\n",
    "SAMPLE_FRACTION = 0.1  # Use 10% of data"
   ]
  },
  {
   "cell_type": "code",
   "execution_count": 33,
   "id": "da2dab5f",
   "metadata": {},
   "outputs": [],
   "source": [
    "# Sample users while maintaining diversity\n",
    "n_users_sample = int(ratings['userId'].nunique() * SAMPLE_FRACTION)\n",
    "sampled_users = np.random.choice(ratings['userId'].unique(), \n",
    "                                  n_users_sample, \n",
    "                                  replace=False)"
   ]
  },
  {
   "cell_type": "code",
   "execution_count": 34,
   "id": "be9ef46e",
   "metadata": {},
   "outputs": [],
   "source": [
    "ratings = ratings[ratings['userId'].isin(sampled_users)]"
   ]
  },
  {
   "cell_type": "code",
   "execution_count": 35,
   "id": "7c89169d",
   "metadata": {},
   "outputs": [
    {
     "name": "stdout",
     "output_type": "stream",
     "text": [
      "After filtering: 1991225 ratings\n"
     ]
    }
   ],
   "source": [
    "# Filter movies that have at least 5 ratings (remove sparse data)\n",
    "movie_counts = ratings['movieId'].value_counts()\n",
    "popular_movies = movie_counts[movie_counts >= 5].index\n",
    "ratings = ratings[ratings['movieId'].isin(popular_movies)]\n",
    "print(f\"After filtering: {len(ratings)} ratings\")"
   ]
  },
  {
   "cell_type": "code",
   "execution_count": 36,
   "id": "952481d4",
   "metadata": {},
   "outputs": [
    {
     "name": "stdout",
     "output_type": "stream",
     "text": [
      "Final dataset: 1991225 ratings from 13849 users\n"
     ]
    }
   ],
   "source": [
    "# Filter users who have rated at least 5 movies\n",
    "user_counts = ratings['userId'].value_counts()\n",
    "active_users = user_counts[user_counts >= 5].index\n",
    "ratings = ratings[ratings['userId'].isin(active_users)]\n",
    "print(f\"Final dataset: {len(ratings)} ratings from {len(active_users)} users\")"
   ]
  },
  {
   "cell_type": "markdown",
   "id": "52b069f6",
   "metadata": {},
   "source": [
    "## TRAIN-TEST SPLIT"
   ]
  },
  {
   "cell_type": "code",
   "execution_count": 37,
   "id": "2d7fa9de",
   "metadata": {},
   "outputs": [
    {
     "name": "stdout",
     "output_type": "stream",
     "text": [
      "Train set: 1592980 ratings\n",
      "est set: 398245 ratings\n"
     ]
    }
   ],
   "source": [
    "from sklearn.model_selection import train_test_split\n",
    "train_data, test_data = train_test_split(ratings, test_size=0.2, random_state=42)\n",
    "print(f\"Train set: {len(train_data)} ratings\")\n",
    "print(f\"est set: {len(test_data)} ratings\")"
   ]
  },
  {
   "cell_type": "markdown",
   "id": "667af343",
   "metadata": {},
   "source": [
    "## CREATE USER-ITEM MATRIX"
   ]
  },
  {
   "cell_type": "code",
   "execution_count": 38,
   "id": "fdf4f097",
   "metadata": {},
   "outputs": [],
   "source": [
    "user_ids = train_data['userId'].unique()\n",
    "movie_ids = train_data['movieId'].unique()"
   ]
  },
  {
   "cell_type": "code",
   "execution_count": 39,
   "id": "7dee1821",
   "metadata": {},
   "outputs": [],
   "source": [
    "user_to_idx = {user_id: idx for idx, user_id in enumerate(user_ids)}\n",
    "movie_to_idx = {movie_id: idx for idx, movie_id in enumerate(movie_ids)}\n",
    "idx_to_user = {idx: user_id for user_id, idx in user_to_idx.items()}\n",
    "idx_to_movie = {idx: movie_id for movie_id, idx in movie_to_idx.items()}"
   ]
  },
  {
   "cell_type": "code",
   "execution_count": 40,
   "id": "6fce440b",
   "metadata": {},
   "outputs": [],
   "source": [
    "# Create sparse matrix\n",
    "row_indices = train_data['userId'].map(user_to_idx).values\n",
    "col_indices = train_data['movieId'].map(movie_to_idx).values\n",
    "ratings_values = train_data['rating'].values"
   ]
  },
  {
   "cell_type": "code",
   "execution_count": 41,
   "id": "9627ad2a",
   "metadata": {},
   "outputs": [],
   "source": [
    "user_item_matrix = csr_matrix(\n",
    "    (ratings_values, (row_indices, col_indices)),\n",
    "    shape=(len(user_ids), len(movie_ids))\n",
    ")"
   ]
  },
  {
   "cell_type": "code",
   "execution_count": 42,
   "id": "21245b14",
   "metadata": {},
   "outputs": [
    {
     "data": {
      "text/plain": [
       "(13849, 11048)"
      ]
     },
     "execution_count": 42,
     "metadata": {},
     "output_type": "execute_result"
    }
   ],
   "source": [
    "user_item_matrix.shape"
   ]
  },
  {
   "cell_type": "markdown",
   "id": "688e2ff2",
   "metadata": {},
   "source": [
    "## ITEM-BASED COLLABORATIVE FILTERING"
   ]
  },
  {
   "cell_type": "code",
   "execution_count": 43,
   "id": "a5a313f8",
   "metadata": {},
   "outputs": [],
   "source": [
    "# Transpose matrix to get item-item relationships\n",
    "item_similarity = cosine_similarity(user_item_matrix.T, dense_output=False)"
   ]
  },
  {
   "cell_type": "markdown",
   "id": "2e7b2eb2",
   "metadata": {},
   "source": [
    "## MATRIX FACTORIZATION (SVD)"
   ]
  },
  {
   "cell_type": "code",
   "execution_count": 46,
   "id": "7830c052",
   "metadata": {},
   "outputs": [
    {
     "name": "stdout",
     "output_type": "stream",
     "text": [
      "SVD model trained with 50 latent factors\n",
      "Explained variance: 0.3110\n"
     ]
    }
   ],
   "source": [
    "# Use TruncatedSVD for dimensionality reduction\n",
    "n_components = 50  # Latent factors\n",
    "svd_model = TruncatedSVD(n_components=n_components, random_state=42)\n",
    "user_factors = svd_model.fit_transform(user_item_matrix)\n",
    "movie_factors = svd_model.components_.T\n",
    "\n",
    "print(f\"SVD model trained with {n_components} latent factors\")\n",
    "print(f\"Explained variance: {svd_model.explained_variance_ratio_.sum():.4f}\")"
   ]
  },
  {
   "cell_type": "markdown",
   "id": "984c6597",
   "metadata": {},
   "source": [
    "## RECOMMENDATION FUNCTIONS"
   ]
  },
  {
   "cell_type": "code",
   "execution_count": 47,
   "id": "e6b951c7",
   "metadata": {},
   "outputs": [],
   "source": [
    "def recommend_movies_collaborative(user_id, N=10):\n",
    "    \"\"\"\n",
    "    Item-Based Collaborative Filtering Recommendations\n",
    "    \n",
    "    Args:\n",
    "        user_id: User ID to generate recommendations for\n",
    "        N: Number of recommendations to return\n",
    "        \n",
    "    Returns:\n",
    "        List of tuples (movie_id, movie_title, predicted_score)\n",
    "    \"\"\"\n",
    "    if user_id not in user_to_idx:\n",
    "        return f\"User {user_id} not found in training data\"\n",
    "    \n",
    "    user_idx = user_to_idx[user_id]\n",
    "    user_ratings = user_item_matrix[user_idx].toarray().flatten()\n",
    "    \n",
    "    # Get movies not rated by user\n",
    "    unrated_movies = np.where(user_ratings == 0)[0]\n",
    "    \n",
    "    # Calculate predicted ratings for unrated movies\n",
    "    predictions = []\n",
    "    for movie_idx in unrated_movies:\n",
    "        # Get similar movies that user has rated\n",
    "        similar_movies = item_similarity[movie_idx].toarray().flatten()\n",
    "        rated_movies = np.where(user_ratings > 0)[0]\n",
    "        \n",
    "        # Weighted average of similar movies\n",
    "        numerator = np.sum(similar_movies[rated_movies] * user_ratings[rated_movies])\n",
    "        denominator = np.sum(np.abs(similar_movies[rated_movies]))\n",
    "        \n",
    "        if denominator > 0:\n",
    "            predicted_rating = numerator / denominator\n",
    "            predictions.append((movie_idx, predicted_rating))\n",
    "    \n",
    "    # Sort by predicted rating\n",
    "    predictions.sort(key=lambda x: x[1], reverse=True)\n",
    "    \n",
    "    # Get top N recommendations\n",
    "    top_n = predictions[:N]\n",
    "    \n",
    "    # Convert to movie IDs and titles\n",
    "    recommendations = []\n",
    "    for movie_idx, score in top_n:\n",
    "        movie_id = idx_to_movie[movie_idx]\n",
    "        movie_title = movies[movies['movieId'] == movie_id]['title'].values\n",
    "        if len(movie_title) > 0:\n",
    "            recommendations.append((movie_id, movie_title[0], score))\n",
    "    \n",
    "    return recommendations"
   ]
  },
  {
   "cell_type": "code",
   "execution_count": 48,
   "id": "b6d97bff",
   "metadata": {},
   "outputs": [],
   "source": [
    "def recommend_movies_svd(user_id, N=10):\n",
    "    \"\"\"\n",
    "    SVD-Based Matrix Factorization Recommendations\n",
    "    \n",
    "    Args:\n",
    "        user_id: User ID to generate recommendations for\n",
    "        N: Number of recommendations to return\n",
    "        \n",
    "    Returns:\n",
    "        List of tuples (movie_id, movie_title, predicted_score)\n",
    "    \"\"\"\n",
    "    if user_id not in user_to_idx:\n",
    "        return f\"User {user_id} not found in training data\"\n",
    "    \n",
    "    user_idx = user_to_idx[user_id]\n",
    "    user_ratings = user_item_matrix[user_idx].toarray().flatten()\n",
    "    \n",
    "    # Predict ratings using SVD\n",
    "    predicted_ratings = user_factors[user_idx] @ movie_factors.T\n",
    "    \n",
    "    # Get movies not rated by user\n",
    "    unrated_movies = np.where(user_ratings == 0)[0]\n",
    "    \n",
    "    # Get predictions for unrated movies\n",
    "    predictions = [(movie_idx, predicted_ratings[movie_idx]) \n",
    "                   for movie_idx in unrated_movies]\n",
    "    \n",
    "    # Sort by predicted rating\n",
    "    predictions.sort(key=lambda x: x[1], reverse=True)\n",
    "    \n",
    "    # Get top N recommendations\n",
    "    top_n = predictions[:N]\n",
    "    \n",
    "    # Convert to movie IDs and titles\n",
    "    recommendations = []\n",
    "    for movie_idx, score in top_n:\n",
    "        movie_id = idx_to_movie[movie_idx]\n",
    "        movie_title = movies[movies['movieId'] == movie_id]['title'].values\n",
    "        if len(movie_title) > 0:\n",
    "            recommendations.append((movie_id, movie_title[0], score))\n",
    "    \n",
    "    return recommendations"
   ]
  },
  {
   "cell_type": "code",
   "execution_count": 49,
   "id": "5daef066",
   "metadata": {},
   "outputs": [],
   "source": [
    "def recommend_movies(user_id, N=10, method='svd'):\n",
    "    \"\"\"\n",
    "    Main recommendation function - Supports both methods\n",
    "    \n",
    "    Args:\n",
    "        user_id: User ID to generate recommendations for\n",
    "        N: Number of recommendations to return\n",
    "        method: 'svd' or 'collaborative'\n",
    "        \n",
    "    Returns:\n",
    "        List of tuples (movie_id, movie_title, predicted_score)\n",
    "    \"\"\"\n",
    "    if method == 'svd':\n",
    "        return recommend_movies_svd(user_id, N)\n",
    "    elif method == 'collaborative':\n",
    "        return recommend_movies_collaborative(user_id, N)\n",
    "    else:\n",
    "        return \"Invalid method. Choose 'svd' or 'collaborative'\""
   ]
  },
  {
   "cell_type": "markdown",
   "id": "274cc0b0",
   "metadata": {},
   "source": [
    "## EVALUATION METRICS"
   ]
  },
  {
   "cell_type": "code",
   "execution_count": 51,
   "id": "bce00de6",
   "metadata": {},
   "outputs": [],
   "source": [
    "## Precision\n",
    "\n",
    "def precision_at_k(recommended, relevant, k):\n",
    "    \"\"\"Calculate Precision@K\"\"\"\n",
    "    recommended_k = set(recommended[:k])\n",
    "    relevant_set = set(relevant)\n",
    "    return len(recommended_k & relevant_set) / k if k > 0 else 0"
   ]
  },
  {
   "cell_type": "code",
   "execution_count": 52,
   "id": "3797893c",
   "metadata": {},
   "outputs": [],
   "source": [
    "## Recall\n",
    "\n",
    "def recall_at_k(recommended, relevant, k):\n",
    "    \"\"\"Calculate Recall@K\"\"\"\n",
    "    recommended_k = set(recommended[:k])\n",
    "    relevant_set = set(relevant)\n",
    "    return len(recommended_k & relevant_set) / len(relevant_set) if len(relevant_set) > 0 else 0"
   ]
  },
  {
   "cell_type": "code",
   "execution_count": 53,
   "id": "57069afd",
   "metadata": {},
   "outputs": [],
   "source": [
    "def ndcg_at_k(recommended, relevant, k):\n",
    "    \"\"\"Calculate NDCG@K\"\"\"\n",
    "    dcg = 0\n",
    "    for i, item in enumerate(recommended[:k]):\n",
    "        if item in relevant:\n",
    "            dcg += 1 / np.log2(i + 2)\n",
    "    \n",
    "    idcg = sum([1 / np.log2(i + 2) for i in range(min(len(relevant), k))])\n",
    "    return dcg / idcg if idcg > 0 else 0"
   ]
  },
  {
   "cell_type": "code",
   "execution_count": 55,
   "id": "f2300ea4",
   "metadata": {},
   "outputs": [
    {
     "name": "stdout",
     "output_type": "stream",
     "text": [
      "\n",
      "Evaluating SVD Model\n",
      "VD Results: Precision@10=0.2227, Recall@10=0.2348, NDCG@10=0.3009\n",
      "\n",
      "Evaluating Collaborative Filtering Model\n",
      "Collaborative Filtering Results: Precision@10=0.0000, Recall@10=0.0000, NDCG@10=0.0000\n"
     ]
    }
   ],
   "source": [
    "def evaluate_model(method='svd', k=10, n_users=100):\n",
    "    \"\"\"Evaluate model on test set\"\"\"\n",
    "    precisions, recalls, ndcgs = [], [], []\n",
    "    \n",
    "    # Sample users for evaluation\n",
    "    test_users = test_data['userId'].unique()\n",
    "    eval_users = np.random.choice(test_users, min(n_users, len(test_users)), replace=False)\n",
    "    \n",
    "    for user_id in eval_users:\n",
    "        if user_id not in user_to_idx:\n",
    "            continue\n",
    "        \n",
    "        # Get test set movies for this user (relevant items)\n",
    "        relevant_movies = test_data[\n",
    "            (test_data['userId'] == user_id) & \n",
    "            (test_data['rating'] >= 4.0)  # Consider 4+ as relevant\n",
    "        ]['movieId'].values\n",
    "        \n",
    "        if len(relevant_movies) == 0:\n",
    "            continue\n",
    "        \n",
    "        # Get recommendations\n",
    "        recommendations = recommend_movies(user_id, N=k, method=method)\n",
    "        if isinstance(recommendations, str):\n",
    "            continue\n",
    "        \n",
    "        recommended_movies = [rec[0] for rec in recommendations]\n",
    "        \n",
    "        # Calculate metrics\n",
    "        precisions.append(precision_at_k(recommended_movies, relevant_movies, k))\n",
    "        recalls.append(recall_at_k(recommended_movies, relevant_movies, k))\n",
    "        ndcgs.append(ndcg_at_k(recommended_movies, relevant_movies, k))\n",
    "    \n",
    "    return {\n",
    "        'Precision@K': np.mean(precisions),\n",
    "        'Recall@K': np.mean(recalls),\n",
    "        'NDCG@K': np.mean(ndcgs)\n",
    "    }\n",
    "\n",
    "\n",
    "# Evaluate both models\n",
    "print(\"\\nEvaluating SVD Model\")\n",
    "svd_metrics = evaluate_model(method='svd', k=10, n_users=100)\n",
    "print(f\"VD Results: Precision@10={svd_metrics['Precision@K']:.4f}, \"\n",
    "      f\"Recall@10={svd_metrics['Recall@K']:.4f}, NDCG@10={svd_metrics['NDCG@K']:.4f}\")\n",
    "\n",
    "print(\"\\nEvaluating Collaborative Filtering Model\")\n",
    "cf_metrics = evaluate_model(method='collaborative', k=10, n_users=50)  # Slower, fewer users\n",
    "print(f\"Collaborative Filtering Results: Precision@10={cf_metrics['Precision@K']:.4f}, \"\n",
    "      f\"Recall@10={cf_metrics['Recall@K']:.4f}, NDCG@10={cf_metrics['NDCG@K']:.4f}\")"
   ]
  },
  {
   "cell_type": "markdown",
   "id": "b395291a",
   "metadata": {},
   "source": [
    "## GENERATING RECOMMENDATIONS"
   ]
  },
  {
   "cell_type": "code",
   "execution_count": 56,
   "id": "7a4ca657",
   "metadata": {},
   "outputs": [
    {
     "name": "stdout",
     "output_type": "stream",
     "text": [
      "\n",
      "Generating recommendations for User ID: 114618\n",
      "\n",
      "--- SVD Method ---\n",
      "1. Raiders of the Lost Ark (Indiana Jones and the Raiders of the Lost Ark) (1981) (Score: 1.551)\n",
      "2. Crouching Tiger, Hidden Dragon (Wo hu cang long) (2000) (Score: 1.219)\n",
      "3. Almost Famous (2000) (Score: 1.200)\n",
      "4. Star Wars: Episode IV - A New Hope (1977) (Score: 1.195)\n",
      "5. Requiem for a Dream (2000) (Score: 0.997)\n",
      "6. Royal Tenenbaums, The (2001) (Score: 0.959)\n",
      "7. Gladiator (2000) (Score: 0.942)\n",
      "8. Star Wars: Episode VI - Return of the Jedi (1983) (Score: 0.931)\n",
      "9. Cast Away (2000) (Score: 0.872)\n",
      "10. Run Lola Run (Lola rennt) (1998) (Score: 0.808)\n"
     ]
    }
   ],
   "source": [
    "demo_user = np.random.choice(list(user_to_idx.keys()))\n",
    "print(f\"\\nGenerating recommendations for User ID: {demo_user}\")\n",
    "\n",
    "# SVD Recommendations\n",
    "print(\"\\n--- SVD Method ---\")\n",
    "svd_recs = recommend_movies(demo_user, N=10, method='svd')\n",
    "for i, (movie_id, title, score) in enumerate(svd_recs, 1):\n",
    "    print(f\"{i}. {title} (Score: {score:.3f})\")\n"
   ]
  },
  {
   "cell_type": "code",
   "execution_count": 57,
   "id": "5acd4237",
   "metadata": {},
   "outputs": [
    {
     "name": "stdout",
     "output_type": "stream",
     "text": [
      "\n",
      "--- Collaborative Filtering Method ---\n",
      "1. Spanish Fly (1998) (Score: 4.398)\n",
      "2. Taste of Tea, The (Cha no aji) (2004) (Score: 4.103)\n",
      "3. a/k/a Tommy Chong (2005) (Score: 4.000)\n",
      "4. Adjuster, The (1991) (Score: 3.984)\n",
      "5. Boys, Les (1997) (Score: 3.981)\n",
      "6. Krakatoa, East of Java (1969) (Score: 3.949)\n",
      "7. Delta of Venus (1995) (Score: 3.931)\n",
      "8. Last Command, The (1928) (Score: 3.931)\n",
      "9. I Was Born, But... (a.k.a. Children of Tokyo) (Otona no miru ehon - Umarete wa mita keredo) (1932) (Score: 3.883)\n",
      "10. Archangel (1990) (Score: 3.866)\n"
     ]
    }
   ],
   "source": [
    "# Collaborative Filtering Recommendations\n",
    "print(\"\\n--- Collaborative Filtering Method ---\")\n",
    "cf_recs = recommend_movies(demo_user, N=10, method='collaborative')\n",
    "for i, (movie_id, title, score) in enumerate(cf_recs, 1):\n",
    "    print(f\"{i}. {title} (Score: {score:.3f})\")\n"
   ]
  },
  {
   "cell_type": "markdown",
   "id": "3cf8357b",
   "metadata": {},
   "source": [
    "## MODEL"
   ]
  },
  {
   "cell_type": "code",
   "execution_count": 60,
   "id": "b4a39cee",
   "metadata": {},
   "outputs": [],
   "source": [
    "model_artifacts = {\n",
    "    'svd_model': svd_model,\n",
    "    'user_factors': user_factors,\n",
    "    'movie_factors': movie_factors,\n",
    "    'item_similarity': item_similarity,\n",
    "    'user_to_idx': user_to_idx,\n",
    "    'movie_to_idx': movie_to_idx,\n",
    "    'idx_to_user': idx_to_user,\n",
    "    'idx_to_movie': idx_to_movie,\n",
    "    'user_item_matrix': user_item_matrix,\n",
    "    'movies': movies,\n",
    "    'svd_metrics': svd_metrics,\n",
    "    'cf_metrics': cf_metrics\n",
    "}\n",
    "\n",
    "with open('movie_recommender_model.pkl', 'wb') as f:\n",
    "    pickle.dump(model_artifacts, f)"
   ]
  },
  {
   "cell_type": "code",
   "execution_count": null,
   "id": "498ca8af",
   "metadata": {},
   "outputs": [],
   "source": []
  }
 ],
 "metadata": {
  "kernelspec": {
   "display_name": "movie_env",
   "language": "python",
   "name": "python3"
  },
  "language_info": {
   "codemirror_mode": {
    "name": "ipython",
    "version": 3
   },
   "file_extension": ".py",
   "mimetype": "text/x-python",
   "name": "python",
   "nbconvert_exporter": "python",
   "pygments_lexer": "ipython3",
   "version": "3.10.18"
  }
 },
 "nbformat": 4,
 "nbformat_minor": 5
}
